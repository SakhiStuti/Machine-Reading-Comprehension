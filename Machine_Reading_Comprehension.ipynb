{
 "cells": [
  {
   "cell_type": "code",
   "execution_count": 27,
   "metadata": {},
   "outputs": [],
   "source": [
    "import json\n",
    "import os\n",
    "import numpy as np\n",
    "import tensorflow as tf\n",
    "from tensorflow.python.ops import embedding_ops\n",
    "from tensorflow.python.ops import variable_scope as vs\n",
    "from tqdm import tqdm"
   ]
  },
  {
   "cell_type": "code",
   "execution_count": 28,
   "metadata": {},
   "outputs": [
    {
     "name": "stdout",
     "output_type": "stream",
     "text": [
      "[nltk_data] Downloading package punkt to\n",
      "[nltk_data]     C:\\Users\\glodp\\AppData\\Roaming\\nltk_data...\n",
      "[nltk_data]   Package punkt is already up-to-date!\n"
     ]
    }
   ],
   "source": [
    "import nltk\n",
    "nltk.download('punkt')\n",
    "from nltk import word_tokenize,sent_tokenize"
   ]
  },
  {
   "cell_type": "markdown",
   "metadata": {},
   "source": [
    "## Preprocessing Data"
   ]
  },
  {
   "cell_type": "code",
   "execution_count": 2,
   "metadata": {},
   "outputs": [],
   "source": [
    "def load_json(filename):\n",
    "    with open(filename) as data_file:\n",
    "        data = json.load(data_file)\n",
    "    return data"
   ]
  },
  {
   "cell_type": "code",
   "execution_count": 3,
   "metadata": {},
   "outputs": [],
   "source": [
    "def tokenize_data(string):\n",
    "    tokens = [token.replace(\"''\", '\" ').replace(\"``\", '\" ').lower() for token in nltk.word_tokenize(string)]\n",
    "    return tokens"
   ]
  },
  {
   "cell_type": "code",
   "execution_count": 4,
   "metadata": {},
   "outputs": [],
   "source": [
    "def get_Word_Index(context, context_tokens):\n",
    "    result = ''\n",
    "    current_word_index = 0\n",
    "    wordMap = dict()\n",
    "\n",
    "    for char_index, char in enumerate(context):\n",
    "        if char !='\\n' and char !=' ':\n",
    "            result += char\n",
    "            context_token = context_tokens[current_word_index]\n",
    "            if result == context_token:\n",
    "                start = char_index - len(result) + 1\n",
    "                for char_position in range(start, char_index+1):\n",
    "                    wordMap[char_position] = (result, current_word_index)\n",
    "                result = ''\n",
    "                current_word_index += 1\n",
    "                \n",
    "    if current_word_index != len(context_tokens):\n",
    "        return None\n",
    "    else:\n",
    "        return wordMap"
   ]
  },
  {
   "cell_type": "code",
   "execution_count": 5,
   "metadata": {},
   "outputs": [],
   "source": [
    "def preprocess(dataset, datatype, jsonDir):\n",
    "    num_map_problem = 0\n",
    "    num_token_problem = 0\n",
    "    num_align_problem = 0\n",
    "    num_examples = 0\n",
    "    examples = []\n",
    "    \n",
    "    for eventID in tqdm(range(len(dataset['data']))):\n",
    "        event_Paragraphs = dataset['data'][eventID]['paragraphs']\n",
    "        for paragraphID in range(len(event_Paragraphs)):\n",
    "            # Context Data\n",
    "            context = event_Paragraphs[paragraphID]['context']\n",
    "            context = context.replace(\"''\", '\" ').replace(\"``\", '\" ').lower()\n",
    "            context_tokens = tokenize_data(context)\n",
    "            \n",
    "            wordIndex = get_Word_Index(context, context_tokens)\n",
    "            if wordIndex is None:\n",
    "                num_map_problem += len(event_Paragraphs[paragraphID]['qas'])\n",
    "                continue\n",
    "            \n",
    "            # Question and Answer Data\n",
    "            qaSet = event_Paragraphs[paragraphID]['qas']\n",
    "            for qID in qaSet:\n",
    "                question = qID['question']\n",
    "                question = question.replace(\"''\", '\" ').replace(\"``\", '\" ').lower()\n",
    "                question_tokens = tokenize_data(question)\n",
    "                \n",
    "                ans_text = qID['answers'][0]['text']\n",
    "                ans_text = ans_text.lower()\n",
    "                ans_start_index = qID['answers'][0]['answer_start']\n",
    "                ans_end_index = ans_start_index + len(ans_text)\n",
    "                \n",
    "                if context[ans_start_index:ans_end_index] != ans_text:\n",
    "                    num_align_problem += 1\n",
    "                    continue\n",
    "                \n",
    "                ans_start_word = wordIndex[ans_start_index][1]\n",
    "                ans_end_word = wordIndex[ans_end_index-1][1]\n",
    "                ans_tokens = context_tokens[ans_start_word:ans_end_word+1]\n",
    "                if(\"\".join(ans_tokens) != \"\".join(ans_text.split())):\n",
    "                    num_token_problem += 1\n",
    "                    continue\n",
    "                \n",
    "                examples.append((\" \".join(context_tokens), \" \".join(question_tokens), \" \".join(ans_tokens), \" \".join([str(ans_start_word), str(ans_end_word)])))\n",
    "                num_examples += 1\n",
    "    \n",
    "    # Creating files for context, questions, answers, and answer span indexes\n",
    "    index = list(range(len(examples)))\n",
    "    np.random.shuffle(index)\n",
    "    with open(os.path.join(jsonDir, datatype +'.context'), 'w', encoding=\"utf-8\") as context_file,  \\\n",
    "         open(os.path.join(jsonDir, datatype +'.question'), 'w', encoding=\"utf-8\") as question_file,\\\n",
    "         open(os.path.join(jsonDir, datatype +'.answer'), 'w', encoding=\"utf-8\") as answer_file, \\\n",
    "         open(os.path.join(jsonDir, datatype +'.span'), 'w', encoding=\"utf-8\") as span_file:\n",
    "        \n",
    "        for i in index:\n",
    "            (context, question, answer, span_index) = examples[i]\n",
    "            context_file.write(context + '\\n')\n",
    "            question_file.write(question + '\\n')\n",
    "            answer_file.write(answer + '\\n')\n",
    "            span_file.write(span_index + '\\n')\n",
    "    \n",
    "    # Returning results\n",
    "    print (\"Number of triples ignored due to token mapping problems: \", num_map_problem)\n",
    "    print (\"Number of triples ignored due to unalignment with tokenization problems: \", num_token_problem)\n",
    "    print (\"Number of triples ignored due to span alignment problems: \", num_align_problem)\n",
    "    print (\"Processed examples: %i out of %i\" % (num_examples, num_examples+num_map_problem+num_token_problem+num_align_problem))"
   ]
  },
  {
   "cell_type": "code",
   "execution_count": 6,
   "metadata": {},
   "outputs": [],
   "source": [
    "# Read data\n",
    "jsonDir = \"./dataset/\"\n",
    "dev_data = load_json(os.path.join(jsonDir,\"dev-v1.1.json\"))\n",
    "train_data = load_json(os.path.join(jsonDir,\"train-v1.1.json\"))"
   ]
  },
  {
   "cell_type": "code",
   "execution_count": 7,
   "metadata": {},
   "outputs": [
    {
     "name": "stderr",
     "output_type": "stream",
     "text": [
      "100%|██████████████████████████████████████████████████████████████████████████████████| 48/48 [00:04<00:00, 11.73it/s]\n"
     ]
    },
    {
     "name": "stdout",
     "output_type": "stream",
     "text": [
      "Number of triples ignored due to token mapping problems:  3212\n",
      "Number of triples ignored due to unalignment with tokenization problems:  240\n",
      "Number of triples ignored due to span alignment problems:  0\n",
      "Processed examples: 7118 out of 10570\n"
     ]
    }
   ],
   "source": [
    "preprocess(dev_data, \"dev\", jsonDir)"
   ]
  },
  {
   "cell_type": "code",
   "execution_count": 8,
   "metadata": {},
   "outputs": [
    {
     "name": "stderr",
     "output_type": "stream",
     "text": [
      "100%|████████████████████████████████████████████████████████████████████████████████| 442/442 [00:35<00:00, 11.43it/s]\n"
     ]
    },
    {
     "name": "stdout",
     "output_type": "stream",
     "text": [
      "Number of triples ignored due to token mapping problems:  28669\n",
      "Number of triples ignored due to unalignment with tokenization problems:  1760\n",
      "Number of triples ignored due to span alignment problems:  7\n",
      "Processed examples: 57163 out of 87599\n"
     ]
    }
   ],
   "source": [
    "preprocess(train_data, \"train\", jsonDir)"
   ]
  },
  {
   "cell_type": "markdown",
   "metadata": {},
   "source": [
    "## Network Layers"
   ]
  },
  {
   "cell_type": "markdown",
   "metadata": {},
   "source": [
    "### Embedding Layer"
   ]
  },
  {
   "cell_type": "code",
   "execution_count": null,
   "metadata": {},
   "outputs": [],
   "source": []
  },
  {
   "cell_type": "markdown",
   "metadata": {},
   "source": [
    "### Highway Layer"
   ]
  },
  {
   "cell_type": "code",
   "execution_count": 9,
   "metadata": {},
   "outputs": [],
   "source": [
    "def highway_Layer(x, size, activation, carry_bias=-1.0):\n",
    "    W_T = tf.Variable(tf.truncated_normal([size, size], stddev=0.1), name=\"weight_transform\")\n",
    "    b_T = tf.Variable(tf.constant(carry_bias, shape=[size]), name=\"bias_transform\")\n",
    "    \n",
    "    W = tf.Variable(tf.truncated_normal([size, size], stddev=0.1), name=\"weight\")\n",
    "    b = tf.Variable(tf.constant(0.1, shape=[size]), name=\"bias\")\n",
    "\n",
    "    T = tf.sigmoid(tf.matmul(x, W_T) + b_T, name=\"transform_gate\")\n",
    "    H = activation(tf.matmul(x, W) + b, name=\"activation\")\n",
    "    C = tf.sub(1.0, T, name=\"carry_gate\")\n",
    "    \n",
    "    y = tf.add(tf.mul(H, T), tf.mul(x, C), \"y\")\n",
    "    return y\n",
    "## This uses tensor flow..."
   ]
  },
  {
   "cell_type": "markdown",
   "metadata": {},
   "source": [
    "## Model"
   ]
  },
  {
   "cell_type": "code",
   "execution_count": 38,
   "metadata": {},
   "outputs": [],
   "source": [
    "class mrcModel(object):\n",
    "    def __init__(self, id2word, word2id, embed_matrix):\n",
    "        self.id2word = id2word\n",
    "        self.word2id = word2id\n",
    "        with tf.variable_scope(\"QAModel\", initializer=tf.contrib.layers.variance_scaling_initializer(factor=1.0, uniform=True)):\n",
    "            self.add_placeholders()\n",
    "            self.add_embed_layer(embed_matrix)\n",
    "            self.add_loss()\n",
    "        \n",
    "    def add_placeholders(self):\n",
    "        # Add placeholders for the inputs\n",
    "        self.context_ids = tf.placeholder(tf.int32, shape=[None, context_len])\n",
    "        self.context_mask = tf.placeholder(tf.int32, shape=[None, context_len])\n",
    "        self.question_ids = tf.placeholder(tf.int32, shape=[None, question_len])\n",
    "        self.question_mask = tf.placeholder(tf.int32, shape=[None, question_len])\n",
    "        self.answer_span = tf.placeholder(tf.int32, shape=[None, 2]) # The start and end index\n",
    "\n",
    "        # Add a placeholder to feed in the keep probability (for dropout)\n",
    "        self.keep_prob = tf.placeholder_with_default(1.0, shape=())\n",
    "    \n",
    "    def add_embed_layer(self, embed_matrix):\n",
    "#         with vs.variable_scope(\"embedding\"):\n",
    "        with tf.variable_scope(\"embedding\"):\n",
    "            embedding_matrix = tf.constant(embed_matrix, dtype=tf.float32, name=\"embed_matrix\")\n",
    "            \n",
    "            self.context_embed = embedding_ops.embedding_lookup(embedding_matrix, self.context_ids) # shape (batch_size, context_len, embedding_size)\n",
    "            self.question_embed = embedding_ops.embedding_lookup(embedding_matrix, self.question_ids)\n",
    "    \n",
    "    def add_loss(self):\n",
    "#         with vs.variable_scope(\"loss\"):\n",
    "        with tf.variable_scope(\"loss\"):\n",
    "            # Loss for start prediction\n",
    "            loss_start = tf.nn.sparse_softmax_cross_entropy_with_logits(logits=self.logits_start, labels=self.answer_span[:, 0])\n",
    "            self.loss_start = tf.reduce_mean(loss_start) # Average across batch\n",
    "\n",
    "            # Loss for end prediction\n",
    "            loss_end = tf.nn.sparse_softmax_cross_entropy_with_logits(logits=self.logits_end, labels=self.answer_span[:, 1])\n",
    "            self.loss_end = tf.reduce_mean(loss_end) #Average across batch\n",
    "\n",
    "            # Total loss\n",
    "            self.loss = self.loss_start + self.loss_end"
   ]
  },
  {
   "cell_type": "markdown",
   "metadata": {},
   "source": [
    "## Main Program"
   ]
  },
  {
   "cell_type": "code",
   "execution_count": 39,
   "metadata": {},
   "outputs": [],
   "source": [
    "## Static variables\n",
    "data_dir = \"./dataset/\"\n",
    "\n",
    "# Hyperparameters\n",
    "learning_rate = 0.001\n",
    "batch_size = 60\n",
    "hidden_size_encoder = 150\n",
    "context_len = 300\n",
    "question_len = 30\n",
    "embed_size = 100"
   ]
  },
  {
   "cell_type": "code",
   "execution_count": 40,
   "metadata": {},
   "outputs": [],
   "source": [
    "## Getting train and dev data\n",
    "train_context = os.path.join(data_dir, \"train.context\")\n",
    "train_questions = os.path.join(data_dir, \"train.question\")\n",
    "train_ans_span = os.path.join(data_dir, \"train.span\")\n",
    "dev_context = os.path.join(data_dir, \"dev.context\")\n",
    "dev_questions = os.path.join(data_dir, \"dev.question\")\n",
    "dev_ans_span = os.path.join(data_dir, \"dev.span\")"
   ]
  },
  {
   "cell_type": "code",
   "execution_count": 41,
   "metadata": {},
   "outputs": [
    {
     "ename": "AttributeError",
     "evalue": "'mrcModel' object has no attribute 'logits_start'",
     "output_type": "error",
     "traceback": [
      "\u001b[1;31m---------------------------------------------------------------------------\u001b[0m",
      "\u001b[1;31mAttributeError\u001b[0m                            Traceback (most recent call last)",
      "\u001b[1;32m<ipython-input-41-81977c1e4ea1>\u001b[0m in \u001b[0;36m<module>\u001b[1;34m\u001b[0m\n\u001b[0;32m      1\u001b[0m \u001b[1;31m## Initalize Model\u001b[0m\u001b[1;33m\u001b[0m\u001b[1;33m\u001b[0m\u001b[1;33m\u001b[0m\u001b[0m\n\u001b[0;32m      2\u001b[0m \u001b[0mid2word\u001b[0m\u001b[1;33m,\u001b[0m \u001b[0mword2id\u001b[0m\u001b[1;33m,\u001b[0m \u001b[0membed_matrix\u001b[0m \u001b[1;33m=\u001b[0m \u001b[1;32mNone\u001b[0m\u001b[1;33m,\u001b[0m \u001b[1;32mNone\u001b[0m\u001b[1;33m,\u001b[0m \u001b[1;33m[\u001b[0m\u001b[1;33m]\u001b[0m\u001b[1;33m\u001b[0m\u001b[1;33m\u001b[0m\u001b[0m\n\u001b[1;32m----> 3\u001b[1;33m \u001b[0mmrcModel\u001b[0m \u001b[1;33m=\u001b[0m \u001b[0mmrcModel\u001b[0m\u001b[1;33m(\u001b[0m\u001b[0mid2word\u001b[0m\u001b[1;33m,\u001b[0m \u001b[0mword2id\u001b[0m\u001b[1;33m,\u001b[0m \u001b[0membed_matrix\u001b[0m\u001b[1;33m)\u001b[0m\u001b[1;33m\u001b[0m\u001b[1;33m\u001b[0m\u001b[0m\n\u001b[0m",
      "\u001b[1;32m<ipython-input-38-3f91bd075f98>\u001b[0m in \u001b[0;36m__init__\u001b[1;34m(self, id2word, word2id, embed_matrix)\u001b[0m\n\u001b[0;32m      6\u001b[0m             \u001b[0mself\u001b[0m\u001b[1;33m.\u001b[0m\u001b[0madd_placeholders\u001b[0m\u001b[1;33m(\u001b[0m\u001b[1;33m)\u001b[0m\u001b[1;33m\u001b[0m\u001b[1;33m\u001b[0m\u001b[0m\n\u001b[0;32m      7\u001b[0m             \u001b[0mself\u001b[0m\u001b[1;33m.\u001b[0m\u001b[0madd_embed_layer\u001b[0m\u001b[1;33m(\u001b[0m\u001b[0membed_matrix\u001b[0m\u001b[1;33m)\u001b[0m\u001b[1;33m\u001b[0m\u001b[1;33m\u001b[0m\u001b[0m\n\u001b[1;32m----> 8\u001b[1;33m             \u001b[0mself\u001b[0m\u001b[1;33m.\u001b[0m\u001b[0madd_loss\u001b[0m\u001b[1;33m(\u001b[0m\u001b[1;33m)\u001b[0m\u001b[1;33m\u001b[0m\u001b[1;33m\u001b[0m\u001b[0m\n\u001b[0m\u001b[0;32m      9\u001b[0m \u001b[1;33m\u001b[0m\u001b[0m\n\u001b[0;32m     10\u001b[0m     \u001b[1;32mdef\u001b[0m \u001b[0madd_placeholders\u001b[0m\u001b[1;33m(\u001b[0m\u001b[0mself\u001b[0m\u001b[1;33m)\u001b[0m\u001b[1;33m:\u001b[0m\u001b[1;33m\u001b[0m\u001b[1;33m\u001b[0m\u001b[0m\n",
      "\u001b[1;32m<ipython-input-38-3f91bd075f98>\u001b[0m in \u001b[0;36madd_loss\u001b[1;34m(self)\u001b[0m\n\u001b[0;32m     31\u001b[0m         \u001b[1;32mwith\u001b[0m \u001b[0mtf\u001b[0m\u001b[1;33m.\u001b[0m\u001b[0mvariable_scope\u001b[0m\u001b[1;33m(\u001b[0m\u001b[1;34m\"loss\"\u001b[0m\u001b[1;33m)\u001b[0m\u001b[1;33m:\u001b[0m\u001b[1;33m\u001b[0m\u001b[1;33m\u001b[0m\u001b[0m\n\u001b[0;32m     32\u001b[0m             \u001b[1;31m# Loss for start prediction\u001b[0m\u001b[1;33m\u001b[0m\u001b[1;33m\u001b[0m\u001b[1;33m\u001b[0m\u001b[0m\n\u001b[1;32m---> 33\u001b[1;33m             \u001b[0mloss_start\u001b[0m \u001b[1;33m=\u001b[0m \u001b[0mtf\u001b[0m\u001b[1;33m.\u001b[0m\u001b[0mnn\u001b[0m\u001b[1;33m.\u001b[0m\u001b[0msparse_softmax_cross_entropy_with_logits\u001b[0m\u001b[1;33m(\u001b[0m\u001b[0mlogits\u001b[0m\u001b[1;33m=\u001b[0m\u001b[0mself\u001b[0m\u001b[1;33m.\u001b[0m\u001b[0mlogits_start\u001b[0m\u001b[1;33m,\u001b[0m \u001b[0mlabels\u001b[0m\u001b[1;33m=\u001b[0m\u001b[0mself\u001b[0m\u001b[1;33m.\u001b[0m\u001b[0manswer_span\u001b[0m\u001b[1;33m[\u001b[0m\u001b[1;33m:\u001b[0m\u001b[1;33m,\u001b[0m \u001b[1;36m0\u001b[0m\u001b[1;33m]\u001b[0m\u001b[1;33m)\u001b[0m\u001b[1;33m\u001b[0m\u001b[1;33m\u001b[0m\u001b[0m\n\u001b[0m\u001b[0;32m     34\u001b[0m             \u001b[0mself\u001b[0m\u001b[1;33m.\u001b[0m\u001b[0mloss_start\u001b[0m \u001b[1;33m=\u001b[0m \u001b[0mtf\u001b[0m\u001b[1;33m.\u001b[0m\u001b[0mreduce_mean\u001b[0m\u001b[1;33m(\u001b[0m\u001b[0mloss_start\u001b[0m\u001b[1;33m)\u001b[0m \u001b[1;31m# Average across batch\u001b[0m\u001b[1;33m\u001b[0m\u001b[1;33m\u001b[0m\u001b[0m\n\u001b[0;32m     35\u001b[0m \u001b[1;33m\u001b[0m\u001b[0m\n",
      "\u001b[1;31mAttributeError\u001b[0m: 'mrcModel' object has no attribute 'logits_start'"
     ]
    }
   ],
   "source": [
    "## Initalize Model\n",
    "id2word, word2id, embed_matrix = None, None, []\n",
    "mrcModel = mrcModel(id2word, word2id, embed_matrix)"
   ]
  },
  {
   "cell_type": "code",
   "execution_count": null,
   "metadata": {},
   "outputs": [],
   "source": []
  },
  {
   "cell_type": "code",
   "execution_count": null,
   "metadata": {},
   "outputs": [],
   "source": []
  }
 ],
 "metadata": {
  "kernelspec": {
   "display_name": "Python 3",
   "language": "python",
   "name": "python3"
  },
  "language_info": {
   "codemirror_mode": {
    "name": "ipython",
    "version": 3
   },
   "file_extension": ".py",
   "mimetype": "text/x-python",
   "name": "python",
   "nbconvert_exporter": "python",
   "pygments_lexer": "ipython3",
   "version": "3.6.7"
  }
 },
 "nbformat": 4,
 "nbformat_minor": 2
}
