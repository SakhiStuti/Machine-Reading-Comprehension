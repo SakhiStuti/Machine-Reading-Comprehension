{
 "cells": [
  {
   "cell_type": "code",
   "execution_count": 1,
   "metadata": {},
   "outputs": [
    {
     "name": "stdout",
     "output_type": "stream",
     "text": [
      "[nltk_data] Downloading package punkt to\n",
      "[nltk_data]     C:\\Users\\glodp\\AppData\\Roaming\\nltk_data...\n",
      "[nltk_data]   Package punkt is already up-to-date!\n"
     ]
    }
   ],
   "source": [
    "import numpy as np\n",
    "import json\n",
    "import os\n",
    "from tqdm import tqdm\n",
    "import nltk\n",
    "nltk.download('punkt')\n",
    "from nltk import word_tokenize,sent_tokenize"
   ]
  },
  {
   "cell_type": "markdown",
   "metadata": {},
   "source": [
    "## Preprocessing Data"
   ]
  },
  {
   "cell_type": "code",
   "execution_count": 2,
   "metadata": {},
   "outputs": [],
   "source": [
    "def load_json(filename):\n",
    "    with open(filename) as data_file:\n",
    "        data = json.load(data_file)\n",
    "    return data"
   ]
  },
  {
   "cell_type": "code",
   "execution_count": 3,
   "metadata": {},
   "outputs": [],
   "source": [
    "def tokenize_data(string):\n",
    "    tokens = [token.replace(\"''\", '\" ').replace(\"``\", '\" ').lower() for token in nltk.word_tokenize(string)]\n",
    "    return tokens"
   ]
  },
  {
   "cell_type": "code",
   "execution_count": 4,
   "metadata": {},
   "outputs": [],
   "source": [
    "def get_Word_Index(context, context_tokens):\n",
    "    result = ''\n",
    "    current_word_index = 0\n",
    "    wordMap = dict()\n",
    "\n",
    "    for char_index, char in enumerate(context):\n",
    "        if char !='\\n' and char !=' ':\n",
    "            result += char\n",
    "            context_token = context_tokens[current_word_index]\n",
    "            if result == context_token:\n",
    "                start = char_index - len(result) + 1\n",
    "                for char_position in range(start, char_index+1):\n",
    "                    wordMap[char_position] = (result, current_word_index)\n",
    "                result = ''\n",
    "                current_word_index += 1\n",
    "                \n",
    "    if current_word_index != len(context_tokens):\n",
    "        return None\n",
    "    else:\n",
    "        return wordMap"
   ]
  },
  {
   "cell_type": "code",
   "execution_count": 52,
   "metadata": {},
   "outputs": [],
   "source": [
    "def preprocess(dataset, datatype, jsonDir):\n",
    "    num_map_problem = 0\n",
    "    num_token_problem = 0\n",
    "    num_align_problem = 0\n",
    "    num_examples = 0\n",
    "    examples = []\n",
    "    \n",
    "    for eventID in tqdm(range(len(dataset['data']))):\n",
    "        event_Paragraphs = dataset['data'][eventID]['paragraphs']\n",
    "        for paragraphID in range(len(event_Paragraphs)):\n",
    "            # Context Data\n",
    "            context = event_Paragraphs[paragraphID]['context']\n",
    "            context = context.replace(\"''\", '\" ').replace(\"``\", '\" ').lower()\n",
    "            context_tokens = tokenize_data(context)\n",
    "            \n",
    "            wordIndex = get_Word_Index(context, context_tokens)\n",
    "            if wordIndex is None:\n",
    "                num_map_problem += len(event_Paragraphs[paragraphID]['qas'])\n",
    "                continue\n",
    "            \n",
    "            # Question and Answer Data\n",
    "            qaSet = event_Paragraphs[paragraphID]['qas']\n",
    "            for qID in qaSet:\n",
    "                question = qID['question']\n",
    "                question = question.replace(\"''\", '\" ').replace(\"``\", '\" ').lower()\n",
    "                question_tokens = tokenize_data(question)\n",
    "                \n",
    "                ans_text = qID['answers'][0]['text']\n",
    "                ans_text = ans_text.lower()\n",
    "                ans_start_index = qID['answers'][0]['answer_start']\n",
    "                ans_end_index = ans_start_index + len(ans_text)\n",
    "                \n",
    "                if context[ans_start_index:ans_end_index] != ans_text:\n",
    "                    num_align_problem += 1\n",
    "                    continue\n",
    "                \n",
    "                ans_start_word = wordIndex[ans_start_index][1]\n",
    "                ans_end_word = wordIndex[ans_end_index-1][1]\n",
    "                ans_tokens = context_tokens[ans_start_word:ans_end_word+1]\n",
    "                if(\"\".join(ans_tokens) != \"\".join(ans_text.split())):\n",
    "                    num_token_problem += 1\n",
    "                    continue\n",
    "                \n",
    "                examples.append((\" \".join(context_tokens), \" \".join(question_tokens), \" \".join(ans_tokens), \" \".join([str(ans_start_word), str(ans_end_word)])))\n",
    "                num_examples += 1\n",
    "    \n",
    "    # Creating files for context, questions, answers, and answer span indexes\n",
    "    index = list(range(len(examples)))\n",
    "    np.random.shuffle(index)\n",
    "    with open(os.path.join(jsonDir, datatype +'.context'), 'w', encoding=\"utf-8\") as context_file,  \\\n",
    "         open(os.path.join(jsonDir, datatype +'.question'), 'w', encoding=\"utf-8\") as question_file,\\\n",
    "         open(os.path.join(jsonDir, datatype +'.answer'), 'w', encoding=\"utf-8\") as answer_file, \\\n",
    "         open(os.path.join(jsonDir, datatype +'.span'), 'w', encoding=\"utf-8\") as span_file:\n",
    "        \n",
    "        for i in index:\n",
    "            (context, question, answer, span_index) = examples[i]\n",
    "            context_file.write(context + '\\n')\n",
    "            question_file.write(question + '\\n')\n",
    "            answer_file.write(answer + '\\n')\n",
    "            span_file.write(span_index + '\\n')\n",
    "    \n",
    "    # Returning results\n",
    "    print (\"Number of triples ignored due to token mapping problems: \", num_map_problem)\n",
    "    print (\"Number of triples ignored due to unalignment with tokenization problems: \", num_token_problem)\n",
    "    print (\"Number of triples ignored due to span alignment problems: \", num_align_problem)\n",
    "    print (\"Processed examples: %i out of %i\" % (num_examples, num_examples+num_map_problem+num_token_problem+num_align_problem))"
   ]
  },
  {
   "cell_type": "code",
   "execution_count": 53,
   "metadata": {},
   "outputs": [],
   "source": [
    "# Read data\n",
    "jsonDir = \"./dataset/\"\n",
    "dev_data = load_json(os.path.join(jsonDir,\"dev-v1.1.json\"))\n",
    "train_data = load_json(os.path.join(jsonDir,\"train-v1.1.json\"))"
   ]
  },
  {
   "cell_type": "code",
   "execution_count": 54,
   "metadata": {},
   "outputs": [
    {
     "name": "stderr",
     "output_type": "stream",
     "text": [
      "100%|██████████████████████████████████████████████████████████████████████████████████| 48/48 [00:04<00:00, 11.26it/s]\n"
     ]
    },
    {
     "name": "stdout",
     "output_type": "stream",
     "text": [
      "Number of triples ignored due to token mapping problems:  3212\n",
      "Number of triples ignored due to unalignment with tokenization problems:  240\n",
      "Number of triples ignored due to span alignment problems:  0\n",
      "Processed examples: 7118 out of 10570\n"
     ]
    }
   ],
   "source": [
    "preprocess(dev_data, \"dev\", jsonDir)"
   ]
  },
  {
   "cell_type": "code",
   "execution_count": 55,
   "metadata": {},
   "outputs": [
    {
     "name": "stderr",
     "output_type": "stream",
     "text": [
      "100%|████████████████████████████████████████████████████████████████████████████████| 442/442 [00:34<00:00, 12.89it/s]\n"
     ]
    },
    {
     "name": "stdout",
     "output_type": "stream",
     "text": [
      "Number of triples ignored due to token mapping problems:  28669\n",
      "Number of triples ignored due to unalignment with tokenization problems:  1760\n",
      "Number of triples ignored due to span alignment problems:  7\n",
      "Processed examples: 57163 out of 87599\n"
     ]
    }
   ],
   "source": [
    "preprocess(train_data, \"train\", jsonDir)"
   ]
  },
  {
   "cell_type": "markdown",
   "metadata": {},
   "source": [
    "## Network"
   ]
  },
  {
   "cell_type": "markdown",
   "metadata": {},
   "source": [
    "### Highway Layer"
   ]
  },
  {
   "cell_type": "code",
   "execution_count": null,
   "metadata": {},
   "outputs": [],
   "source": [
    "def highway_Layer(x, size, activation, carry_bias=-1.0):\n",
    "    W_T = tf.Variable(tf.truncated_normal([size, size], stddev=0.1), name=\"weight_transform\")\n",
    "    b_T = tf.Variable(tf.constant(carry_bias, shape=[size]), name=\"bias_transform\")\n",
    "    \n",
    "    W = tf.Variable(tf.truncated_normal([size, size], stddev=0.1), name=\"weight\")\n",
    "    b = tf.Variable(tf.constant(0.1, shape=[size]), name=\"bias\")\n",
    "\n",
    "    T = tf.sigmoid(tf.matmul(x, W_T) + b_T, name=\"transform_gate\")\n",
    "    H = activation(tf.matmul(x, W) + b, name=\"activation\")\n",
    "    C = tf.sub(1.0, T, name=\"carry_gate\")\n",
    "    \n",
    "    y = tf.add(tf.mul(H, T), tf.mul(x, C), \"y\")\n",
    "    return y\n",
    "## This uses tensor flow..."
   ]
  },
  {
   "cell_type": "code",
   "execution_count": null,
   "metadata": {},
   "outputs": [],
   "source": []
  }
 ],
 "metadata": {
  "kernelspec": {
   "display_name": "Python 3",
   "language": "python",
   "name": "python3"
  },
  "language_info": {
   "codemirror_mode": {
    "name": "ipython",
    "version": 3
   },
   "file_extension": ".py",
   "mimetype": "text/x-python",
   "name": "python",
   "nbconvert_exporter": "python",
   "pygments_lexer": "ipython3",
   "version": "3.7.1"
  }
 },
 "nbformat": 4,
 "nbformat_minor": 2
}
