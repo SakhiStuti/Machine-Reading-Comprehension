{
 "cells": [
  {
   "cell_type": "code",
   "execution_count": 1,
   "metadata": {},
   "outputs": [],
   "source": [
    "import numpy as np\n",
    "import matplotlib.pyplot as plt\n",
    "%matplotlib inline"
   ]
  },
  {
   "cell_type": "markdown",
   "metadata": {},
   "source": [
    "## Train Data"
   ]
  },
  {
   "cell_type": "code",
   "execution_count": 2,
   "metadata": {},
   "outputs": [],
   "source": [
    "train_context_path = '../dataset/train.context'\n",
    "train_question_path = '../dataset/train.question'\n",
    "train_answer_path = '../dataset/train.answer'\n",
    "train_answer_span_path = '../dataset/train.span'\n",
    "\n",
    "lines_context = open(train_context_path, encoding = 'utf-8').readlines() \n",
    "lines_question = open(train_question_path, encoding = 'utf-8').readlines()\n",
    "lines_answer = open(train_answer_path, encoding = 'utf-8').readlines()\n",
    "lines_answer_span = open(train_answer_span_path, encoding = 'utf-8').readlines()  "
   ]
  },
  {
   "cell_type": "markdown",
   "metadata": {},
   "source": [
    "#### Number of Training Samples"
   ]
  },
  {
   "cell_type": "code",
   "execution_count": 3,
   "metadata": {},
   "outputs": [
    {
     "name": "stdout",
     "output_type": "stream",
     "text": [
      "57163 57163 57163 57163\n"
     ]
    }
   ],
   "source": [
    "print(len(lines_context), len(lines_question), len(lines_answer), len(lines_answer_span))"
   ]
  },
  {
   "cell_type": "markdown",
   "metadata": {},
   "source": [
    "#### Context Length"
   ]
  },
  {
   "cell_type": "code",
   "execution_count": 4,
   "metadata": {},
   "outputs": [
    {
     "data": {
      "text/plain": [
       "(array([1.8030e+03, 3.4560e+03, 8.1660e+03, 1.6471e+04, 1.0659e+04,\n",
       "        7.2190e+03, 4.0060e+03, 2.2650e+03, 1.4060e+03, 8.0600e+02,\n",
       "        3.6700e+02, 2.0700e+02, 1.6700e+02, 7.5000e+01, 2.6000e+01,\n",
       "        1.9000e+01, 6.0000e+00, 2.1000e+01, 0.0000e+00, 8.0000e+00,\n",
       "        5.0000e+00, 0.0000e+00, 0.0000e+00, 0.0000e+00, 0.0000e+00,\n",
       "        0.0000e+00, 0.0000e+00, 0.0000e+00, 0.0000e+00, 5.0000e+00]),\n",
       " array([ 22. ,  46.8,  71.6,  96.4, 121.2, 146. , 170.8, 195.6, 220.4,\n",
       "        245.2, 270. , 294.8, 319.6, 344.4, 369.2, 394. , 418.8, 443.6,\n",
       "        468.4, 493.2, 518. , 542.8, 567.6, 592.4, 617.2, 642. , 666.8,\n",
       "        691.6, 716.4, 741.2, 766. ]),\n",
       " <a list of 30 Patch objects>)"
      ]
     },
     "execution_count": 4,
     "metadata": {},
     "output_type": "execute_result"
    },
    {
     "data": {
      "image/png": "[encoded data removed]",
      "text/plain": [
       "<Figure size 432x288 with 1 Axes>"
      ]
     },
     "metadata": {
      "needs_background": "light"
     },
     "output_type": "display_data"
    }
   ],
   "source": [
    "words_context = [x.strip().split() for x in lines_context]\n",
    "len_context = [len(x) for x in words_context]\n",
    "plt.hist(len_context, bins = 30)"
   ]
  },
  {
   "cell_type": "code",
   "execution_count": 5,
   "metadata": {},
   "outputs": [
    {
     "name": "stdout",
     "output_type": "stream",
     "text": [
      "128.38902786767665 22 766\n"
     ]
    }
   ],
   "source": [
    "print(sum(len_context)/len(len_context), min(len_context), max(len_context))"
   ]
  },
  {
   "cell_type": "code",
   "execution_count": 6,
   "metadata": {},
   "outputs": [
    {
     "name": "stdout",
     "output_type": "stream",
     "text": [
      "75th percentile:    152.0\n",
      "95th percentile:    224.0\n",
      "99th percentile:    291.0\n"
     ]
    }
   ],
   "source": [
    "context_array = np.array(len_context)\n",
    "print(\"75th percentile:   \", np.percentile(context_array, 75))\n",
    "print(\"95th percentile:   \", np.percentile(context_array, 95))\n",
    "print(\"99th percentile:   \", np.percentile(context_array, 99))"
   ]
  },
  {
   "cell_type": "markdown",
   "metadata": {},
   "source": [
    "#### Character Analysis"
   ]
  },
  {
   "cell_type": "code",
   "execution_count": 7,
   "metadata": {},
   "outputs": [
    {
     "name": "stdout",
     "output_type": "stream",
     "text": [
      "['!', '$', '%', '&', \"'\", '(', ')', '+', ',', '-', '.', '/', '0', '1', '2', '3', '4', '5', '6', '7', '8', '9', ':', ';', '=', '>', '?', '[', ']', '^', 'a', 'b', 'c', 'd', 'e', 'f', 'g', 'h', 'i', 'j', 'k', 'l', 'm', 'n', 'o', 'p', 'q', 'r', 's', 't', 'u', 'v', 'w', 'x', 'y', 'z', '~', '£', '¥', '°', '²', '´', '·', '½', '×', 'ß', 'à', 'á', 'ã', 'ä', 'å', 'æ', 'ç', 'è', 'é', 'ì', 'í', 'î', 'ñ', 'ò', 'ó', 'ô', 'õ', 'ö', 'ú', 'ü', 'ā', 'č', 'ġ', 'ī', 'ı', 'ļ', 'ł', 'ń', 'ō', 'œ', 'ś', 'ş', 'š', 'ū', 'ź', 'ż', 'ǎ', 'ǐ', 'ǔ', 'ɐ', 'ɑ', 'ə', 'ɛ', 'ɜ', 'ɡ', 'ɣ', 'ɪ', 'ɫ', 'ɾ', 'ʁ', 'ʃ', 'ʊ', 'ʒ', 'ʻ', 'ʼ', 'ʾ', 'ˈ', 'ː', '̇', '̧', '̯', 'ά', 'έ', 'ί', 'α', 'β', 'γ', 'δ', 'ε', 'η', 'θ', 'ι', 'κ', 'λ', 'μ', 'ν', 'ο', 'π', 'ρ', 'ς', 'τ', 'υ', 'φ', 'χ', 'ω', 'ό', 'а', 'б', 'и', 'й', 'к', 'л', 'н', 'п', 'с', 'т', 'у', 'ь', 'ا', 'ة', 'د', 'ر', 'س', 'ص', 'م', 'َ', 'ِ', 'ಕ', 'ಚ', 'ಜ', 'ಪ', 'ಮ', 'ಯ', 'ರ', 'ಲ', 'ಶ', 'ಸ', 'ಾ', 'ಿ', 'ು', '್', 'ḍ', 'ḥ', 'ṃ', 'ṅ', 'ṇ', 'ṣ', 'ἀ', 'ἄ', 'ἑ', 'ἰ', 'ὶ', 'ὸ', 'ῖ', '\\u200b', '\\u200e', '–', '—', '’', '“', '”', '′', '⁄', '€', '₹', '−', '≈', '♠', 'ⲏ', 'ⲓ', 'ⲙ', 'ⲭ', 'ァ', 'コ', 'タ', 'ピ', 'フ', 'ミ', 'ュ', 'リ', 'ン', 'ー', '仕', '代', '元', '光', '八', '劇', '博', '印', '國', '士', '大', '子', '字', '審', '巴', '師', '常', '平', '政', '朱', '楊', '槐', '様', '檀', '水', '汉', '法', '洲', '潮', '王', '现', '用', '知', '石', '神', '考', '耶', '船', '蜀', '表', '试', '语', '越', '通', '重', '陳', '대', '보', '이', '컴', '현', '\\ufeff']\n"
     ]
    }
   ],
   "source": [
    "all_words = sum(words_context[:1000], [])\n",
    "str1 = ''.join(all_words)\n",
    "chars = sorted(set(str1))\n",
    "print(chars)"
   ]
  },
  {
   "cell_type": "code",
   "execution_count": 9,
   "metadata": {},
   "outputs": [
    {
     "name": "stdout",
     "output_type": "stream",
     "text": [
      "60\n"
     ]
    }
   ],
   "source": [
    "unique_chars = ['!', '\"', '#', '$', '%', '&', \"'\", '(', ')', '+', ',', '-', '.', '/', '0', '1', '2', '3', '4', '5', '6', '7', '8', '9', ':', ';', '<', '=', '>', '?', '[', ']', '^', 'a', 'b', 'c', 'd', 'e', 'f', 'g', 'h', 'i', 'j', 'k', 'l', 'm', 'n', 'o', 'p', 'q', 'r', 's', 't', 'u', 'v', 'w', 'x', 'y', 'z', '~',]\n",
    "print(len(unique_chars))"
   ]
  },
  {
   "cell_type": "markdown",
   "metadata": {},
   "source": [
    "#### Question Length"
   ]
  },
  {
   "cell_type": "code",
   "execution_count": null,
   "metadata": {},
   "outputs": [],
   "source": [
    "words_question = [x.strip().split() for x in lines_question]\n",
    "len_question = [len(x) for x in words_question]\n",
    "plt.hist(len_question, bins = 30)"
   ]
  },
  {
   "cell_type": "code",
   "execution_count": null,
   "metadata": {},
   "outputs": [],
   "source": [
    "print(sum(len_question)/len(len_question), min(len_question), max(len_question))"
   ]
  },
  {
   "cell_type": "code",
   "execution_count": null,
   "metadata": {},
   "outputs": [],
   "source": [
    "context_array = np.array(len_context)\n",
    "print(\"75th percentile:   \", np.percentile(context_array, 75))\n",
    "print(\"95th percentile:   \", np.percentile(context_array, 95))\n",
    "print(\"99th percentile:   \", np.percentile(context_array, 99))"
   ]
  },
  {
   "cell_type": "markdown",
   "metadata": {},
   "source": [
    "#### Answer Length"
   ]
  },
  {
   "cell_type": "code",
   "execution_count": null,
   "metadata": {},
   "outputs": [],
   "source": [
    "words_answer = [x.strip().split() for x in lines_answer]\n",
    "len_answer = [len(x) for x in words_answer]\n",
    "plt.hist(len_answer, bins= 30)"
   ]
  },
  {
   "cell_type": "code",
   "execution_count": null,
   "metadata": {},
   "outputs": [],
   "source": [
    "print(sum(len_answer)/len(len_answer),min(len_answer), max(len_answer))"
   ]
  },
  {
   "cell_type": "code",
   "execution_count": null,
   "metadata": {},
   "outputs": [],
   "source": [
    "context_array = np.array(len_context)\n",
    "print(\"75th percentile:   \", np.percentile(context_array, 75))\n",
    "print(\"95th percentile:   \", np.percentile(context_array, 95))\n",
    "print(\"99th percentile:   \", np.percentile(context_array, 99))"
   ]
  },
  {
   "cell_type": "markdown",
   "metadata": {},
   "source": [
    "#### Question Categorisation"
   ]
  },
  {
   "cell_type": "code",
   "execution_count": null,
   "metadata": {},
   "outputs": [],
   "source": [
    "question_type = [x[0] for x in words_question]"
   ]
  },
  {
   "cell_type": "code",
   "execution_count": null,
   "metadata": {},
   "outputs": [],
   "source": [
    "question_type_freq = {}\n",
    "for t in question_type:\n",
    "    if t in question_type_freq:\n",
    "        question_type_freq[t] = question_type_freq[t] + 1\n",
    "    else:\n",
    "        question_type_freq[t] = 1"
   ]
  },
  {
   "cell_type": "code",
   "execution_count": null,
   "metadata": {},
   "outputs": [],
   "source": [
    "len(question_type_freq)"
   ]
  },
  {
   "cell_type": "code",
   "execution_count": null,
   "metadata": {},
   "outputs": [],
   "source": [
    "print(list(sorted(question_type_freq, key= question_type_freq.get, reverse = True))[:10])"
   ]
  }
 ],
 "metadata": {
  "kernelspec": {
   "display_name": "Python 3",
   "language": "python",
   "name": "python3"
  },
  "language_info": {
   "codemirror_mode": {
    "name": "ipython",
    "version": 3
   },
   "file_extension": ".py",
   "mimetype": "text/x-python",
   "name": "python",
   "nbconvert_exporter": "python",
   "pygments_lexer": "ipython3",
   "version": "3.6.7"
  }
 },
 "nbformat": 4,
 "nbformat_minor": 2
}
