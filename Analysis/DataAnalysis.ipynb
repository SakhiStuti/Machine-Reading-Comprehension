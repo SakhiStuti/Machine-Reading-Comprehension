{
 "cells": [
  {
   "cell_type": "code",
   "execution_count": 12,
   "metadata": {},
   "outputs": [],
   "source": [
    "import numpy as np\n",
    "import matplotlib.pyplot as plt\n",
    "%matplotlib inline"
   ]
  },
  {
   "cell_type": "markdown",
   "metadata": {},
   "source": [
    "## Train Data"
   ]
  },
  {
   "cell_type": "code",
   "execution_count": 13,
   "metadata": {},
   "outputs": [],
   "source": [
    "train_context_path = './dataset/train.context'\n",
    "train_question_path = './dataset/train.question'\n",
    "train_answer_path = './dataset/train.answer'\n",
    "train_answer_span_path = './dataset/train.span'\n",
    "\n",
    "lines_context = open(train_context_path, encoding = 'utf-8').readlines() \n",
    "lines_question = open(train_question_path, encoding = 'utf-8').readlines()\n",
    "lines_answer = open(train_answer_path, encoding = 'utf-8').readlines()\n",
    "lines_answer_span = open(train_answer_span_path, encoding = 'utf-8').readlines()  "
   ]
  },
  {
   "cell_type": "markdown",
   "metadata": {},
   "source": [
    "#### Number of Training Samples"
   ]
  },
  {
   "cell_type": "code",
   "execution_count": 14,
   "metadata": {},
   "outputs": [
    {
     "name": "stdout",
     "output_type": "stream",
     "text": [
      "57163 57163 57163 57163\n"
     ]
    }
   ],
   "source": [
    "print(len(lines_context), len(lines_question), len(lines_answer), len(lines_answer_span))"
   ]
  },
  {
   "cell_type": "markdown",
   "metadata": {},
   "source": [
    "#### Context Length"
   ]
  },
  {
   "cell_type": "code",
   "execution_count": 25,
   "metadata": {},
   "outputs": [
    {
     "data": {
      "text/plain": [
       "(array([1.8030e+03, 3.4560e+03, 8.1660e+03, 1.6471e+04, 1.0659e+04,\n",
       "        7.2190e+03, 4.0060e+03, 2.2650e+03, 1.4060e+03, 8.0600e+02,\n",
       "        3.6700e+02, 2.0700e+02, 1.6700e+02, 7.5000e+01, 2.6000e+01,\n",
       "        1.9000e+01, 6.0000e+00, 2.1000e+01, 0.0000e+00, 8.0000e+00,\n",
       "        5.0000e+00, 0.0000e+00, 0.0000e+00, 0.0000e+00, 0.0000e+00,\n",
       "        0.0000e+00, 0.0000e+00, 0.0000e+00, 0.0000e+00, 5.0000e+00]),\n",
       " array([ 22. ,  46.8,  71.6,  96.4, 121.2, 146. , 170.8, 195.6, 220.4,\n",
       "        245.2, 270. , 294.8, 319.6, 344.4, 369.2, 394. , 418.8, 443.6,\n",
       "        468.4, 493.2, 518. , 542.8, 567.6, 592.4, 617.2, 642. , 666.8,\n",
       "        691.6, 716.4, 741.2, 766. ]),\n",
       " <a list of 30 Patch objects>)"
      ]
     },
     "execution_count": 25,
     "metadata": {},
     "output_type": "execute_result"
    },
    {
     "data": {
      "image/png": "[encoded data removed]",
      "text/plain": [
       "<Figure size 432x288 with 1 Axes>"
      ]
     },
     "metadata": {},
     "output_type": "display_data"
    }
   ],
   "source": [
    "words_context = [x.strip().split() for x in lines_context]\n",
    "len_context = [len(x) for x in words_context]\n",
    "plt.hist(len_context, bins = 30)"
   ]
  },
  {
   "cell_type": "code",
   "execution_count": 29,
   "metadata": {},
   "outputs": [
    {
     "name": "stdout",
     "output_type": "stream",
     "text": [
      "128.38902786767665 22 766\n"
     ]
    }
   ],
   "source": [
    "print(sum(len_context)/len(len_context), min(len_context), max(len_context))"
   ]
  },
  {
   "cell_type": "markdown",
   "metadata": {},
   "source": [
    "#### Question Length"
   ]
  },
  {
   "cell_type": "code",
   "execution_count": 24,
   "metadata": {},
   "outputs": [
    {
     "data": {
      "text/plain": [
       "(array([1.0000e+00, 2.5900e+02, 3.0710e+03, 1.0007e+04, 1.4141e+04,\n",
       "        1.2194e+04, 8.0200e+03, 4.6730e+03, 2.4250e+03, 1.1980e+03,\n",
       "        6.1200e+02, 2.8300e+02, 1.4500e+02, 6.0000e+01, 3.8000e+01,\n",
       "        1.7000e+01, 7.0000e+00, 8.0000e+00, 2.0000e+00, 0.0000e+00,\n",
       "        0.0000e+00, 0.0000e+00, 0.0000e+00, 0.0000e+00, 1.0000e+00,\n",
       "        0.0000e+00, 0.0000e+00, 0.0000e+00, 0.0000e+00, 1.0000e+00]),\n",
       " array([ 1.        ,  2.96666667,  4.93333333,  6.9       ,  8.86666667,\n",
       "        10.83333333, 12.8       , 14.76666667, 16.73333333, 18.7       ,\n",
       "        20.66666667, 22.63333333, 24.6       , 26.56666667, 28.53333333,\n",
       "        30.5       , 32.46666667, 34.43333333, 36.4       , 38.36666667,\n",
       "        40.33333333, 42.3       , 44.26666667, 46.23333333, 48.2       ,\n",
       "        50.16666667, 52.13333333, 54.1       , 56.06666667, 58.03333333,\n",
       "        60.        ]),\n",
       " <a list of 30 Patch objects>)"
      ]
     },
     "execution_count": 24,
     "metadata": {},
     "output_type": "execute_result"
    },
    {
     "data": {
      "image/png": "[encoded data removed]",
      "text/plain": [
       "<Figure size 432x288 with 1 Axes>"
      ]
     },
     "metadata": {},
     "output_type": "display_data"
    }
   ],
   "source": [
    "words_question = [x.strip().split() for x in lines_question]\n",
    "len_question = [len(x) for x in words_question]\n",
    "plt.hist(len_question, bins = 30)"
   ]
  },
  {
   "cell_type": "code",
   "execution_count": 30,
   "metadata": {},
   "outputs": [
    {
     "name": "stdout",
     "output_type": "stream",
     "text": [
      "11.220877140807865 1 60\n"
     ]
    }
   ],
   "source": [
    "print(sum(len_question)/len(len_question), min(len_question), max(len_question))"
   ]
  },
  {
   "cell_type": "markdown",
   "metadata": {},
   "source": [
    "#### Answer Length"
   ]
  },
  {
   "cell_type": "code",
   "execution_count": 26,
   "metadata": {},
   "outputs": [
    {
     "data": {
      "text/plain": [
       "(array([3.3555e+04, 8.3930e+03, 4.3320e+03, 2.6700e+03, 3.0180e+03,\n",
       "        9.6500e+02, 7.1300e+02, 5.5600e+02, 8.3800e+02, 3.2700e+02,\n",
       "        2.6900e+02, 2.3700e+02, 3.3900e+02, 1.6100e+02, 1.3800e+02,\n",
       "        1.1100e+02, 1.0100e+02, 1.6200e+02, 5.6000e+01, 7.0000e+01,\n",
       "        4.5000e+01, 6.0000e+01, 1.7000e+01, 9.0000e+00, 7.0000e+00,\n",
       "        9.0000e+00, 1.0000e+00, 1.0000e+00, 1.0000e+00, 2.0000e+00]),\n",
       " array([ 1.        ,  2.23333333,  3.46666667,  4.7       ,  5.93333333,\n",
       "         7.16666667,  8.4       ,  9.63333333, 10.86666667, 12.1       ,\n",
       "        13.33333333, 14.56666667, 15.8       , 17.03333333, 18.26666667,\n",
       "        19.5       , 20.73333333, 21.96666667, 23.2       , 24.43333333,\n",
       "        25.66666667, 26.9       , 28.13333333, 29.36666667, 30.6       ,\n",
       "        31.83333333, 33.06666667, 34.3       , 35.53333333, 36.76666667,\n",
       "        38.        ]),\n",
       " <a list of 30 Patch objects>)"
      ]
     },
     "execution_count": 26,
     "metadata": {},
     "output_type": "execute_result"
    },
    {
     "data": {
      "image/png": "[encoded data removed]",
      "text/plain": [
       "<Figure size 432x288 with 1 Axes>"
      ]
     },
     "metadata": {},
     "output_type": "display_data"
    }
   ],
   "source": [
    "words_answer = [x.strip().split() for x in lines_answer]\n",
    "len_answer = [len(x) for x in words_answer]\n",
    "plt.hist(len_answer, bins= 30)"
   ]
  },
  {
   "cell_type": "code",
   "execution_count": 31,
   "metadata": {},
   "outputs": [
    {
     "name": "stdout",
     "output_type": "stream",
     "text": [
      "3.3397827265888775 1 38\n"
     ]
    }
   ],
   "source": [
    "print(sum(len_answer)/len(len_answer),min(len_answer), max(len_answer))"
   ]
  },
  {
   "cell_type": "markdown",
   "metadata": {},
   "source": [
    "#### Question Categorisation"
   ]
  },
  {
   "cell_type": "code",
   "execution_count": 36,
   "metadata": {},
   "outputs": [],
   "source": [
    "question_type = [x[0] for x in words_question]"
   ]
  },
  {
   "cell_type": "code",
   "execution_count": 38,
   "metadata": {},
   "outputs": [],
   "source": [
    "question_type_freq = {}\n",
    "for t in question_type:\n",
    "    if t in question_type_freq:\n",
    "        question_type_freq[t] = question_type_freq[t] + 1\n",
    "    else:\n",
    "        question_type_freq[t] = 1"
   ]
  },
  {
   "cell_type": "code",
   "execution_count": 48,
   "metadata": {},
   "outputs": [
    {
     "data": {
      "text/plain": [
       "1951"
      ]
     },
     "execution_count": 48,
     "metadata": {},
     "output_type": "execute_result"
    }
   ],
   "source": [
    "len(question_type_freq)"
   ]
  },
  {
   "cell_type": "code",
   "execution_count": 47,
   "metadata": {},
   "outputs": [
    {
     "name": "stdout",
     "output_type": "stream",
     "text": [
      "['what', 'how', 'who', 'when', 'in', 'which', 'where', 'the', 'why', 'along']\n"
     ]
    }
   ],
   "source": [
    "print(list(sorted(question_type_freq, key= question_type_freq.get, reverse = True))[:10])"
   ]
  }
 ],
 "metadata": {
  "kernelspec": {
   "display_name": "Python 3",
   "language": "python",
   "name": "python3"
  },
  "language_info": {
   "codemirror_mode": {
    "name": "ipython",
    "version": 3
   },
   "file_extension": ".py",
   "mimetype": "text/x-python",
   "name": "python",
   "nbconvert_exporter": "python",
   "pygments_lexer": "ipython3",
   "version": "3.6.7"
  }
 },
 "nbformat": 4,
 "nbformat_minor": 2
}
